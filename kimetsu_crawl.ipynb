{
 "cells": [
  {
   "cell_type": "code",
   "execution_count": 31,
   "id": "6ae38ba0-3db5-44f4-837f-abf4ee43968c",
   "metadata": {},
   "outputs": [],
   "source": [
    "import pandas as pd\n",
    "import time\n",
    "from selenium import webdriver\n",
    "from webdriver_manager.chrome import ChromeDriverManager"
   ]
  },
  {
   "cell_type": "code",
   "execution_count": 2,
   "id": "87f0dd71-122e-46fe-b045-dc498e3f0919",
   "metadata": {},
   "outputs": [
    {
     "name": "stdout",
     "output_type": "stream",
     "text": [
      "\n"
     ]
    },
    {
     "name": "stderr",
     "output_type": "stream",
     "text": [
      "[WDM] - ====== WebDriver manager ======\n",
      "[WDM] - Current google-chrome version is 102.0.5005\n",
      "[WDM] - Get LATEST chromedriver version for 102.0.5005 google-chrome\n",
      "[WDM] - About to download new driver from https://chromedriver.storage.googleapis.com/102.0.5005.61/chromedriver_win32.zip\n",
      "[WDM] - Driver has been saved in cache [C:\\Users\\Izzham\\.wdm\\drivers\\chromedriver\\win32\\102.0.5005.61]\n",
      "C:\\Users\\Izzham\\AppData\\Local\\Temp\\ipykernel_17840\\1503906442.py:1: DeprecationWarning: executable_path has been deprecated, please pass in a Service object\n",
      "  driver = webdriver.Chrome(ChromeDriverManager().install())\n"
     ]
    }
   ],
   "source": [
    "driver = webdriver.Chrome(ChromeDriverManager().install())"
   ]
  },
  {
   "cell_type": "code",
   "execution_count": 3,
   "id": "536bb645-ef3d-4174-91bc-25a04e6e79ca",
   "metadata": {},
   "outputs": [],
   "source": [
    "page_url = \"https://kimetsu-no-yaiba.fandom.com/wiki/Category:Characters_by_Group\"\n",
    "driver.get(page_url)"
   ]
  },
  {
   "cell_type": "code",
   "execution_count": 4,
   "id": "ded92359-ac76-4fed-8c91-1adb53fe0e25",
   "metadata": {},
   "outputs": [
    {
     "name": "stderr",
     "output_type": "stream",
     "text": [
      "C:\\Users\\Izzham\\AppData\\Local\\Temp\\ipykernel_17840\\1439891948.py:1: DeprecationWarning: find_elements_by_class_name is deprecated. Please use find_elements(by=By.CLASS_NAME, value=name) instead\n",
      "  categories = driver.find_elements_by_class_name('category-page__member-link')\n"
     ]
    }
   ],
   "source": [
    "categories = driver.find_elements_by_class_name('category-page__member-link')\n",
    "#same as jjk class"
   ]
  },
  {
   "cell_type": "code",
   "execution_count": 13,
   "id": "19df84bc-7dc7-4127-ad4b-7a7994719a1b",
   "metadata": {},
   "outputs": [
    {
     "data": {
      "text/plain": [
       "'Category:Agatsuma Family'"
      ]
     },
     "execution_count": 13,
     "metadata": {},
     "output_type": "execute_result"
    }
   ],
   "source": [
    "categories[0].text"
   ]
  },
  {
   "cell_type": "code",
   "execution_count": 14,
   "id": "677a566f-1551-4745-aa66-921709670c85",
   "metadata": {},
   "outputs": [
    {
     "data": {
      "text/plain": [
       "'https://kimetsu-no-yaiba.fandom.com/wiki/Category:Agatsuma_Family'"
      ]
     },
     "execution_count": 14,
     "metadata": {},
     "output_type": "execute_result"
    }
   ],
   "source": [
    "categories[0].get_attribute('href')"
   ]
  },
  {
   "cell_type": "code",
   "execution_count": 15,
   "id": "4f135e51-d4b0-4d24-ac69-75dcf7d2227f",
   "metadata": {},
   "outputs": [],
   "source": [
    "driver.get(categories[0].get_attribute('href'))"
   ]
  },
  {
   "cell_type": "code",
   "execution_count": 16,
   "id": "a76f5957-5ef1-47d4-a27d-91f50ecd885f",
   "metadata": {},
   "outputs": [
    {
     "name": "stderr",
     "output_type": "stream",
     "text": [
      "C:\\Users\\Izzham\\AppData\\Local\\Temp\\ipykernel_17840\\1621931044.py:1: DeprecationWarning: find_elements_by_class_name is deprecated. Please use find_elements(by=By.CLASS_NAME, value=name) instead\n",
      "  kny_char = driver.find_elements_by_class_name('category-page__member-link')\n"
     ]
    }
   ],
   "source": [
    "kny_char = driver.find_elements_by_class_name('category-page__member-link')"
   ]
  },
  {
   "cell_type": "code",
   "execution_count": 18,
   "id": "9c9bc6bf-9325-47c8-8dae-c23130102778",
   "metadata": {},
   "outputs": [
    {
     "data": {
      "text/plain": [
       "'Nezuko Kamado'"
      ]
     },
     "execution_count": 18,
     "metadata": {},
     "output_type": "execute_result"
    }
   ],
   "source": [
    "kny_char[0].text"
   ]
  },
  {
   "cell_type": "markdown",
   "id": "bcec84db-e5e1-475c-b496-82d88d9bfe0c",
   "metadata": {},
   "source": [
    "<h1>C0DE</h1>"
   ]
  },
  {
   "cell_type": "code",
   "execution_count": 21,
   "id": "0a93b3cd-92b2-4974-bb2a-c306c7946064",
   "metadata": {},
   "outputs": [
    {
     "name": "stdout",
     "output_type": "stream",
     "text": [
      "\n"
     ]
    },
    {
     "name": "stderr",
     "output_type": "stream",
     "text": [
      "[WDM] - ====== WebDriver manager ======\n",
      "[WDM] - Current google-chrome version is 102.0.5005\n",
      "[WDM] - Get LATEST chromedriver version for 102.0.5005 google-chrome\n",
      "[WDM] - Driver [C:\\Users\\Izzham\\.wdm\\drivers\\chromedriver\\win32\\102.0.5005.61\\chromedriver.exe] found in cache\n",
      "C:\\Users\\Izzham\\AppData\\Local\\Temp\\ipykernel_17840\\2571766897.py:2: DeprecationWarning: executable_path has been deprecated, please pass in a Service object\n",
      "  driver = webdriver.Chrome(ChromeDriverManager().install())\n",
      "C:\\Users\\Izzham\\AppData\\Local\\Temp\\ipykernel_17840\\2571766897.py:9: DeprecationWarning: find_elements_by_class_name is deprecated. Please use find_elements(by=By.CLASS_NAME, value=name) instead\n",
      "  categories = driver.find_elements_by_class_name('category-page__member-link')\n"
     ]
    }
   ],
   "source": [
    "# Create Driver\n",
    "driver = webdriver.Chrome(ChromeDriverManager().install())\n",
    "\n",
    "# Path to the Wiki Page\n",
    "page_url = \"https://kimetsu-no-yaiba.fandom.com/wiki/Category:Characters_by_Group\"\n",
    "driver.get(page_url)\n",
    "\n",
    "# Find character category\n",
    "categories = driver.find_elements_by_class_name('category-page__member-link')\n",
    "\n",
    "category = []\n",
    "for categorys in categories:\n",
    "    category_url = categorys.get_attribute('href')\n",
    "    category_name = categorys.text\n",
    "    category.append({'category':category_name, 'url':category_url})"
   ]
  },
  {
   "cell_type": "code",
   "execution_count": 25,
   "id": "f82ccbd3-5c88-4258-8015-ea98875dbcb8",
   "metadata": {},
   "outputs": [
    {
     "data": {
      "text/plain": [
       "[{'category_name': 'Category:Agatsuma Family',\n",
       "  'url': 'https://kimetsu-no-yaiba.fandom.com/wiki/Category:Agatsuma_Family'},\n",
       " {'category_name': 'Category:Antagonists',\n",
       "  'url': 'https://kimetsu-no-yaiba.fandom.com/wiki/Category:Antagonists'},\n",
       " {'category_name': 'Category:Demon Slayers',\n",
       "  'url': 'https://kimetsu-no-yaiba.fandom.com/wiki/Category:Demon_Slayers'},\n",
       " {'category_name': 'Category:Descendants',\n",
       "  'url': 'https://kimetsu-no-yaiba.fandom.com/wiki/Category:Descendants'},\n",
       " {'category_name': 'Category:Hashibira Family',\n",
       "  'url': 'https://kimetsu-no-yaiba.fandom.com/wiki/Category:Hashibira_Family'},\n",
       " {'category_name': 'Category:Hashira',\n",
       "  'url': 'https://kimetsu-no-yaiba.fandom.com/wiki/Category:Hashira'},\n",
       " {'category_name': 'Category:Kakushi',\n",
       "  'url': 'https://kimetsu-no-yaiba.fandom.com/wiki/Category:Kakushi'},\n",
       " {'category_name': 'Category:Kamado Family',\n",
       "  'url': 'https://kimetsu-no-yaiba.fandom.com/wiki/Category:Kamado_Family'},\n",
       " {'category_name': 'Category:Kocho Family',\n",
       "  'url': 'https://kimetsu-no-yaiba.fandom.com/wiki/Category:Kocho_Family'},\n",
       " {'category_name': 'Category:Marechi',\n",
       "  'url': 'https://kimetsu-no-yaiba.fandom.com/wiki/Category:Marechi'},\n",
       " {'category_name': 'Category:Ninjas',\n",
       "  'url': 'https://kimetsu-no-yaiba.fandom.com/wiki/Category:Ninjas'},\n",
       " {'category_name': 'Category:Rengoku Family',\n",
       "  'url': 'https://kimetsu-no-yaiba.fandom.com/wiki/Category:Rengoku_Family'},\n",
       " {'category_name': 'Category:Shinazugawa Family',\n",
       "  'url': 'https://kimetsu-no-yaiba.fandom.com/wiki/Category:Shinazugawa_Family'},\n",
       " {'category_name': 'Category:Swordsmith Village Residents',\n",
       "  'url': 'https://kimetsu-no-yaiba.fandom.com/wiki/Category:Swordsmith_Village_Residents'},\n",
       " {'category_name': 'Category:Tokito Family',\n",
       "  'url': 'https://kimetsu-no-yaiba.fandom.com/wiki/Category:Tokito_Family'},\n",
       " {'category_name': 'Category:Tomioka Family',\n",
       "  'url': 'https://kimetsu-no-yaiba.fandom.com/wiki/Category:Tomioka_Family'},\n",
       " {'category_name': 'Category:Tsugikuni Family',\n",
       "  'url': 'https://kimetsu-no-yaiba.fandom.com/wiki/Category:Tsugikuni_Family'},\n",
       " {'category_name': 'Category:Ubuyashiki Family',\n",
       "  'url': 'https://kimetsu-no-yaiba.fandom.com/wiki/Category:Ubuyashiki_Family'},\n",
       " {'category_name': 'Category:Uzui Family',\n",
       "  'url': 'https://kimetsu-no-yaiba.fandom.com/wiki/Category:Uzui_Family'}]"
      ]
     },
     "execution_count": 25,
     "metadata": {},
     "output_type": "execute_result"
    }
   ],
   "source": [
    "category\n",
    "# pd.DataFrame(category)"
   ]
  },
  {
   "cell_type": "code",
   "execution_count": 33,
   "id": "6b20076a-596c-43ab-804d-7c0a03a19e8a",
   "metadata": {},
   "outputs": [
    {
     "name": "stderr",
     "output_type": "stream",
     "text": [
      "C:\\Users\\Izzham\\AppData\\Local\\Temp\\ipykernel_17840\\4147991187.py:6: DeprecationWarning: find_elements_by_class_name is deprecated. Please use find_elements(by=By.CLASS_NAME, value=name) instead\n",
      "  kny_char = driver.find_elements_by_class_name('category-page__member-link')\n"
     ]
    }
   ],
   "source": [
    "character=[]\n",
    "for categorys in category:\n",
    "    #go to the category page\n",
    "    driver.get(categorys['url'])\n",
    "    \n",
    "    kny_char = driver.find_elements_by_class_name('category-page__member-link')\n",
    "    \n",
    "    for kny in kny_char:\n",
    "        character.append({'category':categorys['category_name'],'name':kny.text})\n",
    "    \n",
    "    "
   ]
  },
  {
   "cell_type": "code",
   "execution_count": 34,
   "id": "dbb0d1d5-9f72-454f-9858-00ce454224f6",
   "metadata": {},
   "outputs": [
    {
     "data": {
      "text/plain": [
       "[{'category': 'Category:Agatsuma Family', 'name': 'Nezuko Kamado'},\n",
       " {'category': 'Category:Agatsuma Family', 'name': 'Toko Agatsuma'},\n",
       " {'category': 'Category:Agatsuma Family', 'name': 'Yoshiteru Agatsuma'},\n",
       " {'category': 'Category:Agatsuma Family', 'name': 'Zenitsu Agatsuma'},\n",
       " {'category': 'Category:Antagonists', 'name': 'Akaza'},\n",
       " {'category': 'Category:Antagonists', 'name': 'Daki'},\n",
       " {'category': 'Category:Antagonists', 'name': 'Doma'},\n",
       " {'category': 'Category:Antagonists', 'name': 'Enmu'},\n",
       " {'category': 'Category:Antagonists', 'name': 'Flute Demon'},\n",
       " {'category': 'Category:Antagonists', 'name': 'Gyokko'},\n",
       " {'category': 'Category:Antagonists', 'name': 'Gyutaro'},\n",
       " {'category': 'Category:Antagonists', 'name': 'Hairo'},\n",
       " {'category': 'Category:Antagonists', 'name': 'Hand Demon'},\n",
       " {'category': 'Category:Antagonists', 'name': 'Hantengu'},\n",
       " {'category': 'Category:Antagonists', 'name': 'Horned Demon'},\n",
       " {'category': 'Category:Antagonists', 'name': 'Kaigaku'},\n",
       " {'category': 'Category:Antagonists', 'name': 'Kamanue'},\n",
       " {'category': 'Category:Antagonists', 'name': 'Kokushibo'},\n",
       " {'category': 'Category:Antagonists', 'name': 'Kyogai'},\n",
       " {'category': 'Category:Antagonists', 'name': 'Matazo'},\n",
       " {'category': 'Category:Antagonists', 'name': 'Mukago'},\n",
       " {'category': 'Category:Antagonists', 'name': 'Muzan Kibutsuji'},\n",
       " {'category': 'Category:Antagonists', 'name': 'Nakime'},\n",
       " {'category': 'Category:Antagonists', 'name': 'Rokuro'},\n",
       " {'category': 'Category:Antagonists', 'name': 'Rui'},\n",
       " {'category': 'Category:Antagonists', 'name': 'Slasher'},\n",
       " {'category': 'Category:Antagonists', 'name': 'Spider Demon (Daughter)'},\n",
       " {'category': 'Category:Antagonists', 'name': 'Spider Demon (Father)'},\n",
       " {'category': 'Category:Antagonists', 'name': 'Spider Demon (Mother)'},\n",
       " {'category': 'Category:Antagonists', 'name': 'Spider Demon (Son)'},\n",
       " {'category': 'Category:Antagonists', 'name': 'Susamaru'},\n",
       " {'category': 'Category:Antagonists', 'name': 'Swamp Demon'},\n",
       " {'category': 'Category:Antagonists', 'name': 'Temple Demon'},\n",
       " {'category': 'Category:Antagonists', 'name': 'Ubume'},\n",
       " {'category': 'Category:Antagonists', 'name': 'Wakuraba'},\n",
       " {'category': 'Category:Antagonists', 'name': 'Yahaba'},\n",
       " {'category': 'Category:Demon Slayers', 'name': 'Amane Ubuyashiki'},\n",
       " {'category': 'Category:Demon Slayers', 'name': 'Aoi Kanzaki'},\n",
       " {'category': 'Category:Demon Slayers', 'name': 'Bright Red Nichirin Sword'},\n",
       " {'category': 'Category:Demon Slayers', 'name': 'Demon Slayer Mark'},\n",
       " {'category': 'Category:Demon Slayers',\n",
       "  'name': 'Category:Former Demon Slayers'},\n",
       " {'category': 'Category:Demon Slayers', 'name': 'Genya Shinazugawa'},\n",
       " {'category': 'Category:Demon Slayers', 'name': 'Giyu Tomioka'},\n",
       " {'category': 'Category:Demon Slayers', 'name': 'Goto'},\n",
       " {'category': 'Category:Demon Slayers', 'name': 'Gyomei Himejima'},\n",
       " {'category': 'Category:Demon Slayers', 'name': 'Category:Hashira'},\n",
       " {'category': 'Category:Demon Slayers', 'name': 'Hinaki Ubuyashiki'},\n",
       " {'category': 'Category:Demon Slayers', 'name': 'Hinatsuru'},\n",
       " {'category': 'Category:Demon Slayers', 'name': 'Inosuke Hashibira'},\n",
       " {'category': 'Category:Demon Slayers', 'name': 'Jigoro Kuwajima'},\n",
       " {'category': 'Category:Demon Slayers', 'name': 'Kagaya Ubuyashiki'},\n",
       " {'category': 'Category:Demon Slayers', 'name': 'Kaigaku'},\n",
       " {'category': 'Category:Demon Slayers', 'name': 'Kanae Kocho'},\n",
       " {'category': 'Category:Demon Slayers', 'name': 'Kanao Tsuyuri'},\n",
       " {'category': 'Category:Demon Slayers', 'name': 'Kanata Ubuyashiki'},\n",
       " {'category': 'Category:Demon Slayers', 'name': 'Kiriya Ubuyashiki'},\n",
       " {'category': 'Category:Demon Slayers', 'name': 'Kiyo Terauchi'},\n",
       " {'category': 'Category:Demon Slayers', 'name': 'Kokushibo'},\n",
       " {'category': 'Category:Demon Slayers', 'name': 'Kuina Ubuyashiki'},\n",
       " {'category': 'Category:Demon Slayers',\n",
       "  'name': 'File:Kyojuro kills the Slasher.png'},\n",
       " {'category': 'Category:Demon Slayers', 'name': 'Kyojuro Rengoku'},\n",
       " {'category': 'Category:Demon Slayers', 'name': 'Makio'},\n",
       " {'category': 'Category:Demon Slayers', 'name': 'Masachika Kumeno'},\n",
       " {'category': 'Category:Demon Slayers', 'name': 'Mitsuri Kanroji'},\n",
       " {'category': 'Category:Demon Slayers', 'name': 'Muichiro Tokito'},\n",
       " {'category': 'Category:Demon Slayers', 'name': 'Murata'},\n",
       " {'category': 'Category:Demon Slayers', 'name': 'Nagakura'},\n",
       " {'category': 'Category:Demon Slayers', 'name': 'Naho Takada'},\n",
       " {'category': 'Category:Demon Slayers', 'name': 'Nezuko Kamado'},\n",
       " {'category': 'Category:Demon Slayers', 'name': 'Nichika Ubuyashiki'},\n",
       " {'category': 'Category:Demon Slayers', 'name': 'Obanai Iguro'},\n",
       " {'category': 'Category:Demon Slayers', 'name': 'Ozaki'},\n",
       " {'category': 'Category:Demon Slayers', 'name': 'Sakonji Urokodaki'},\n",
       " {'category': 'Category:Demon Slayers', 'name': 'Sanemi Shinazugawa'},\n",
       " {'category': 'Category:Demon Slayers', 'name': 'Shinjuro Rengoku'},\n",
       " {'category': 'Category:Demon Slayers', 'name': 'Shinobu Kocho'},\n",
       " {'category': 'Category:Demon Slayers', 'name': 'Suma'},\n",
       " {'category': 'Category:Demon Slayers', 'name': 'Sumi Nakahara'},\n",
       " {'category': 'Category:Demon Slayers', 'name': 'Takeuchi'},\n",
       " {'category': 'Category:Demon Slayers', 'name': 'Tanjiro Kamado'},\n",
       " {'category': 'Category:Demon Slayers', 'name': 'Tengen Uzui'},\n",
       " {'category': 'Category:Demon Slayers', 'name': 'Transparent World'},\n",
       " {'category': 'Category:Demon Slayers', 'name': 'Category:Tsuguko'},\n",
       " {'category': 'Category:Demon Slayers', 'name': 'Yoriichi Tsugikuni'},\n",
       " {'category': 'Category:Demon Slayers', 'name': 'Zenitsu Agatsuma'},\n",
       " {'category': 'Category:Descendants', 'name': 'Aoba Hashibira'},\n",
       " {'category': 'Category:Descendants', 'name': 'Giichi Tomioka'},\n",
       " {'category': 'Category:Descendants', 'name': 'Kanata Kamado'},\n",
       " {'category': 'Category:Descendants', 'name': 'Sanehiro Shinazugawa'},\n",
       " {'category': 'Category:Descendants', 'name': 'Sumihiko Kamado'},\n",
       " {'category': 'Category:Descendants', 'name': 'Tenma Uzui'},\n",
       " {'category': 'Category:Descendants', 'name': 'Tojuro Rengoku'},\n",
       " {'category': 'Category:Descendants', 'name': 'Toko Agatsuma'},\n",
       " {'category': 'Category:Descendants', 'name': 'Yoshiteru Agatsuma'},\n",
       " {'category': 'Category:Hashibira Family', 'name': 'Aoba Hashibira'},\n",
       " {'category': 'Category:Hashibira Family', 'name': 'Aoi Kanzaki'},\n",
       " {'category': 'Category:Hashibira Family', 'name': 'Inosuke Hashibira'},\n",
       " {'category': 'Category:Hashibira Family', 'name': 'Kotoha Hashibira'},\n",
       " {'category': 'Category:Hashira', 'name': 'Giyu Tomioka'},\n",
       " {'category': 'Category:Hashira', 'name': 'Gyomei Himejima'},\n",
       " {'category': 'Category:Hashira', 'name': 'Jigoro Kuwajima'},\n",
       " {'category': 'Category:Hashira', 'name': 'Kanae Kocho'},\n",
       " {'category': 'Category:Hashira', 'name': 'Kyojuro Rengoku'},\n",
       " {'category': 'Category:Hashira', 'name': 'Mitsuri Kanroji'},\n",
       " {'category': 'Category:Hashira', 'name': 'Muichiro Tokito'},\n",
       " {'category': 'Category:Hashira', 'name': 'Obanai Iguro'},\n",
       " {'category': 'Category:Hashira', 'name': 'Sakonji Urokodaki'},\n",
       " {'category': 'Category:Hashira', 'name': 'Sanemi Shinazugawa'},\n",
       " {'category': 'Category:Hashira', 'name': 'Shinjuro Rengoku'},\n",
       " {'category': 'Category:Hashira', 'name': 'Shinobu Kocho'},\n",
       " {'category': 'Category:Hashira', 'name': 'Tengen Uzui'},\n",
       " {'category': 'Category:Kakushi', 'name': 'Goto'},\n",
       " {'category': 'Category:Kamado Family', 'name': 'Hanako Kamado'},\n",
       " {'category': 'Category:Kamado Family', 'name': 'Kanao Tsuyuri'},\n",
       " {'category': 'Category:Kamado Family', 'name': 'Kanata Kamado'},\n",
       " {'category': 'Category:Kamado Family', 'name': 'Kie Kamado'},\n",
       " {'category': 'Category:Kamado Family', 'name': 'Nezuko Kamado'},\n",
       " {'category': 'Category:Kamado Family', 'name': 'Rokuta Kamado'},\n",
       " {'category': 'Category:Kamado Family', 'name': 'Shigeru Kamado'},\n",
       " {'category': 'Category:Kamado Family', 'name': 'Sumihiko Kamado'},\n",
       " {'category': 'Category:Kamado Family', 'name': 'Sumire'},\n",
       " {'category': 'Category:Kamado Family', 'name': 'Sumiyoshi'},\n",
       " {'category': 'Category:Kamado Family', 'name': 'Suyako'},\n",
       " {'category': 'Category:Kamado Family', 'name': 'Takeo Kamado'},\n",
       " {'category': 'Category:Kamado Family', 'name': 'Tanjiro Kamado'},\n",
       " {'category': 'Category:Kamado Family',\n",
       "  'name': 'File:Tanjiro leaves his \"family\".png'},\n",
       " {'category': 'Category:Kamado Family', 'name': 'Tanjuro Kamado'},\n",
       " {'category': 'Category:Kocho Family', 'name': 'Kanae Kocho'},\n",
       " {'category': 'Category:Kocho Family', 'name': 'Kanao Tsuyuri'},\n",
       " {'category': 'Category:Kocho Family', 'name': 'Shinobu Kocho'},\n",
       " {'category': 'Category:Marechi', 'name': 'Kiyoshi'},\n",
       " {'category': 'Category:Marechi', 'name': 'Sanemi Shinazugawa'},\n",
       " {'category': 'Category:Ninjas', 'name': 'Hinatsuru'},\n",
       " {'category': 'Category:Ninjas', 'name': 'Category:Kunoichis'},\n",
       " {'category': 'Category:Ninjas', 'name': 'Makio'},\n",
       " {'category': 'Category:Ninjas', 'name': 'Suma'},\n",
       " {'category': 'Category:Ninjas', 'name': 'Tengen Uzui'},\n",
       " {'category': 'Category:Rengoku Family',\n",
       "  'name': 'File:Kyojuro and Shinjuro.png'},\n",
       " {'category': 'Category:Rengoku Family', 'name': 'Kyojuro Rengoku'},\n",
       " {'category': 'Category:Rengoku Family', 'name': 'Ruka Rengoku'},\n",
       " {'category': 'Category:Rengoku Family', 'name': 'Senjuro Rengoku'},\n",
       " {'category': 'Category:Rengoku Family', 'name': 'Shinjuro Rengoku'},\n",
       " {'category': 'Category:Rengoku Family', 'name': 'Tojuro Rengoku'},\n",
       " {'category': 'Category:Shinazugawa Family', 'name': 'Genya Shinazugawa'},\n",
       " {'category': 'Category:Shinazugawa Family', 'name': 'Kyogo Shinazugawa'},\n",
       " {'category': 'Category:Shinazugawa Family', 'name': 'Sanehiro Shinazugawa'},\n",
       " {'category': 'Category:Shinazugawa Family', 'name': 'Sanemi Shinazugawa'},\n",
       " {'category': 'Category:Shinazugawa Family', 'name': 'Shizu Shinazugawa'},\n",
       " {'category': 'Category:Swordsmith Village Residents',\n",
       "  'name': 'Hotaru Haganezuka'},\n",
       " {'category': 'Category:Swordsmith Village Residents', 'name': 'Kotetsu'},\n",
       " {'category': 'Category:Swordsmith Village Residents',\n",
       "  'name': 'Kozo Kanamori'},\n",
       " {'category': 'Category:Swordsmith Village Residents',\n",
       "  'name': 'Tecchin Tecchikawahara'},\n",
       " {'category': 'Category:Swordsmith Village Residents', 'name': 'Tetsuido'},\n",
       " {'category': 'Category:Tokito Family', 'name': 'Muichiro Tokito'},\n",
       " {'category': 'Category:Tokito Family', 'name': 'Yuichiro Tokito'},\n",
       " {'category': 'Category:Tomioka Family', 'name': 'Giichi Tomioka'},\n",
       " {'category': 'Category:Tomioka Family', 'name': 'Giyu Tomioka'},\n",
       " {'category': 'Category:Tomioka Family', 'name': 'Tsutako Tomioka'},\n",
       " {'category': 'Category:Tsugikuni Family', 'name': 'Akeno Tsugikuni'},\n",
       " {'category': 'Category:Tsugikuni Family', 'name': 'Kokushibo'},\n",
       " {'category': 'Category:Tsugikuni Family', 'name': 'Yoriichi Tsugikuni'},\n",
       " {'category': 'Category:Ubuyashiki Family', 'name': 'Amane Ubuyashiki'},\n",
       " {'category': 'Category:Ubuyashiki Family', 'name': 'Hinaki Ubuyashiki'},\n",
       " {'category': 'Category:Ubuyashiki Family', 'name': 'Kagaya Ubuyashiki'},\n",
       " {'category': 'Category:Ubuyashiki Family', 'name': 'Kanata Ubuyashiki'},\n",
       " {'category': 'Category:Ubuyashiki Family', 'name': 'Kiriya Ubuyashiki'},\n",
       " {'category': 'Category:Ubuyashiki Family', 'name': 'Kuina Ubuyashiki'},\n",
       " {'category': 'Category:Ubuyashiki Family', 'name': 'Nichika Ubuyashiki'},\n",
       " {'category': 'Category:Uzui Family', 'name': 'Hinatsuru'},\n",
       " {'category': 'Category:Uzui Family', 'name': 'Makio'},\n",
       " {'category': 'Category:Uzui Family', 'name': 'Suma'},\n",
       " {'category': 'Category:Uzui Family', 'name': 'Tengen Uzui'},\n",
       " {'category': 'Category:Uzui Family', 'name': 'Tenma Uzui'}]"
      ]
     },
     "execution_count": 34,
     "metadata": {},
     "output_type": "execute_result"
    }
   ],
   "source": [
    "character"
   ]
  },
  {
   "cell_type": "code",
   "execution_count": 35,
   "id": "1d64f027-d808-4313-87b7-da4c1a90294d",
   "metadata": {},
   "outputs": [
    {
     "data": {
      "text/html": [
       "<div>\n",
       "<style scoped>\n",
       "    .dataframe tbody tr th:only-of-type {\n",
       "        vertical-align: middle;\n",
       "    }\n",
       "\n",
       "    .dataframe tbody tr th {\n",
       "        vertical-align: top;\n",
       "    }\n",
       "\n",
       "    .dataframe thead th {\n",
       "        text-align: right;\n",
       "    }\n",
       "</style>\n",
       "<table border=\"1\" class=\"dataframe\">\n",
       "  <thead>\n",
       "    <tr style=\"text-align: right;\">\n",
       "      <th></th>\n",
       "      <th>category</th>\n",
       "      <th>name</th>\n",
       "    </tr>\n",
       "  </thead>\n",
       "  <tbody>\n",
       "    <tr>\n",
       "      <th>0</th>\n",
       "      <td>Category:Agatsuma Family</td>\n",
       "      <td>Nezuko Kamado</td>\n",
       "    </tr>\n",
       "    <tr>\n",
       "      <th>1</th>\n",
       "      <td>Category:Agatsuma Family</td>\n",
       "      <td>Toko Agatsuma</td>\n",
       "    </tr>\n",
       "    <tr>\n",
       "      <th>2</th>\n",
       "      <td>Category:Agatsuma Family</td>\n",
       "      <td>Yoshiteru Agatsuma</td>\n",
       "    </tr>\n",
       "    <tr>\n",
       "      <th>3</th>\n",
       "      <td>Category:Agatsuma Family</td>\n",
       "      <td>Zenitsu Agatsuma</td>\n",
       "    </tr>\n",
       "    <tr>\n",
       "      <th>4</th>\n",
       "      <td>Category:Antagonists</td>\n",
       "      <td>Akaza</td>\n",
       "    </tr>\n",
       "    <tr>\n",
       "      <th>...</th>\n",
       "      <td>...</td>\n",
       "      <td>...</td>\n",
       "    </tr>\n",
       "    <tr>\n",
       "      <th>168</th>\n",
       "      <td>Category:Uzui Family</td>\n",
       "      <td>Hinatsuru</td>\n",
       "    </tr>\n",
       "    <tr>\n",
       "      <th>169</th>\n",
       "      <td>Category:Uzui Family</td>\n",
       "      <td>Makio</td>\n",
       "    </tr>\n",
       "    <tr>\n",
       "      <th>170</th>\n",
       "      <td>Category:Uzui Family</td>\n",
       "      <td>Suma</td>\n",
       "    </tr>\n",
       "    <tr>\n",
       "      <th>171</th>\n",
       "      <td>Category:Uzui Family</td>\n",
       "      <td>Tengen Uzui</td>\n",
       "    </tr>\n",
       "    <tr>\n",
       "      <th>172</th>\n",
       "      <td>Category:Uzui Family</td>\n",
       "      <td>Tenma Uzui</td>\n",
       "    </tr>\n",
       "  </tbody>\n",
       "</table>\n",
       "<p>173 rows × 2 columns</p>\n",
       "</div>"
      ],
      "text/plain": [
       "                     category                name\n",
       "0    Category:Agatsuma Family       Nezuko Kamado\n",
       "1    Category:Agatsuma Family       Toko Agatsuma\n",
       "2    Category:Agatsuma Family  Yoshiteru Agatsuma\n",
       "3    Category:Agatsuma Family    Zenitsu Agatsuma\n",
       "4        Category:Antagonists               Akaza\n",
       "..                        ...                 ...\n",
       "168      Category:Uzui Family           Hinatsuru\n",
       "169      Category:Uzui Family               Makio\n",
       "170      Category:Uzui Family                Suma\n",
       "171      Category:Uzui Family         Tengen Uzui\n",
       "172      Category:Uzui Family          Tenma Uzui\n",
       "\n",
       "[173 rows x 2 columns]"
      ]
     },
     "execution_count": 35,
     "metadata": {},
     "output_type": "execute_result"
    }
   ],
   "source": [
    "pd.DataFrame(character)"
   ]
  },
  {
   "cell_type": "code",
   "execution_count": 32,
   "id": "2c950eba-0133-4c75-8a5a-b55818910408",
   "metadata": {},
   "outputs": [
    {
     "name": "stdout",
     "output_type": "stream",
     "text": [
      "Collecting matplotlib\n",
      "  Using cached matplotlib-3.5.2-cp38-cp38-win_amd64.whl (7.2 MB)\n",
      "Requirement already satisfied: python-dateutil>=2.7 in c:\\users\\izzham\\documents\\python scripts\\kimetsu_project\\path\\to\\myenv\\lib\\site-packages (from matplotlib) (2.8.2)\n",
      "Collecting kiwisolver>=1.0.1\n",
      "  Using cached kiwisolver-1.4.2-cp38-cp38-win_amd64.whl (55 kB)\n",
      "Requirement already satisfied: numpy>=1.17 in c:\\users\\izzham\\documents\\python scripts\\kimetsu_project\\path\\to\\myenv\\lib\\site-packages (from matplotlib) (1.22.4)\n",
      "Collecting cycler>=0.10\n",
      "  Using cached cycler-0.11.0-py3-none-any.whl (6.4 kB)\n",
      "Requirement already satisfied: pyparsing>=2.2.1 in c:\\users\\izzham\\documents\\python scripts\\kimetsu_project\\path\\to\\myenv\\lib\\site-packages (from matplotlib) (3.0.9)\n",
      "Collecting pillow>=6.2.0\n",
      "  Using cached Pillow-9.1.1-cp38-cp38-win_amd64.whl (3.3 MB)\n",
      "Requirement already satisfied: packaging>=20.0 in c:\\users\\izzham\\documents\\python scripts\\kimetsu_project\\path\\to\\myenv\\lib\\site-packages (from matplotlib) (21.3)\n",
      "Collecting fonttools>=4.22.0\n",
      "  Using cached fonttools-4.33.3-py3-none-any.whl (930 kB)\n",
      "Requirement already satisfied: six>=1.5 in c:\\users\\izzham\\documents\\python scripts\\kimetsu_project\\path\\to\\myenv\\lib\\site-packages (from python-dateutil>=2.7->matplotlib) (1.16.0)\n",
      "Installing collected packages: pillow, kiwisolver, fonttools, cycler, matplotlib\n",
      "Successfully installed cycler-0.11.0 fonttools-4.33.3 kiwisolver-1.4.2 matplotlib-3.5.2 pillow-9.1.1\n"
     ]
    },
    {
     "name": "stderr",
     "output_type": "stream",
     "text": [
      "WARNING: You are using pip version 21.1.1; however, version 22.1.2 is available.\n",
      "You should consider upgrading via the 'c:\\users\\izzham\\documents\\python scripts\\kimetsu_project\\path\\to\\myenv\\scripts\\python.exe -m pip install --upgrade pip' command.\n"
     ]
    }
   ],
   "source": [
    "!pip3 install matplotlib"
   ]
  },
  {
   "cell_type": "code",
   "execution_count": 36,
   "id": "ced924e1-a33e-4c31-a39f-d8081d6893a9",
   "metadata": {},
   "outputs": [
    {
     "data": {
      "image/png": "[encoded data removed]",
      "text/plain": [
       "<Figure size 432x288 with 1 Axes>"
      ]
     },
     "metadata": {
      "needs_background": "light"
     },
     "output_type": "display_data"
    }
   ],
   "source": [
    "import matplotlib.pyplot as plt \n",
    "\n",
    "character_kny = pd.DataFrame(character)\n",
    "\n",
    "character_kny['category'].value_counts().plot(kind=\"bar\")\n",
    "plt.show()"
   ]
  },
  {
   "cell_type": "code",
   "execution_count": 37,
   "id": "3d74754a-05f0-446f-aa1b-578c8526352b",
   "metadata": {},
   "outputs": [
    {
     "name": "stdout",
     "output_type": "stream",
     "text": [
      "\n"
     ]
    },
    {
     "name": "stderr",
     "output_type": "stream",
     "text": [
      "[WDM] - ====== WebDriver manager ======\n",
      "[WDM] - Current google-chrome version is 102.0.5005\n",
      "[WDM] - Get LATEST chromedriver version for 102.0.5005 google-chrome\n",
      "[WDM] - Driver [C:\\Users\\Izzham\\.wdm\\drivers\\chromedriver\\win32\\102.0.5005.61\\chromedriver.exe] found in cache\n",
      "C:\\Users\\Izzham\\AppData\\Local\\Temp\\ipykernel_17840\\1129471258.py:3: DeprecationWarning: executable_path has been deprecated, please pass in a Service object\n",
      "  driver2 = webdriver.Chrome(ChromeDriverManager().install())\n",
      "C:\\Users\\Izzham\\AppData\\Local\\Temp\\ipykernel_17840\\1129471258.py:10: DeprecationWarning: find_elements_by_class_name is deprecated. Please use find_elements(by=By.CLASS_NAME, value=name) instead\n",
      "  gender_cat = driver.find_elements_by_class_name('category-page__member-link')\n"
     ]
    }
   ],
   "source": [
    "page_urlG = 'https://kimetsu-no-yaiba.fandom.com/wiki/Category:Characters_by_Gender'\n",
    "\n",
    "driver2 = webdriver.Chrome(ChromeDriverManager().install())\n",
    "\n",
    "# Path to the Wiki Page\n",
    "page_urlG = 'https://kimetsu-no-yaiba.fandom.com/wiki/Category:Characters_by_Gender'\n",
    "driver2.get(page_urlG)\n",
    "\n",
    "# Find character category\n",
    "gender_cat = driver.find_elements_by_class_name('category-page__member-link')\n",
    "\n",
    "gender = []\n",
    "for genders in gender_cat:\n",
    "    gender_url = genders.get_attribute('href')\n",
    "    gender_name = genders.text\n",
    "    gender.append({'gender':gender_name, 'url':gender_url})"
   ]
  },
  {
   "cell_type": "code",
   "execution_count": 38,
   "id": "6f0077dc-3836-4b2d-bdf4-8ad140e99653",
   "metadata": {},
   "outputs": [
    {
     "data": {
      "text/plain": [
       "[{'gender': 'Category:Female Characters',\n",
       "  'url': 'https://kimetsu-no-yaiba.fandom.com/wiki/Category:Female_Characters'},\n",
       " {'gender': 'Category:Male Characters',\n",
       "  'url': 'https://kimetsu-no-yaiba.fandom.com/wiki/Category:Male_Characters'}]"
      ]
     },
     "execution_count": 38,
     "metadata": {},
     "output_type": "execute_result"
    }
   ],
   "source": [
    "gender"
   ]
  },
  {
   "cell_type": "code",
   "execution_count": 39,
   "id": "71da6aba-6b70-4ebb-9747-4fe96580ac1e",
   "metadata": {},
   "outputs": [
    {
     "name": "stderr",
     "output_type": "stream",
     "text": [
      "C:\\Users\\Izzham\\AppData\\Local\\Temp\\ipykernel_17840\\3828861065.py:6: DeprecationWarning: find_elements_by_class_name is deprecated. Please use find_elements(by=By.CLASS_NAME, value=name) instead\n",
      "  kny_char = driver.find_elements_by_class_name('category-page__member-link')\n"
     ]
    }
   ],
   "source": [
    "characterg=[]\n",
    "for genders in gender:\n",
    "    #go to the category page\n",
    "    driver.get(genders['url'])\n",
    "    \n",
    "    kny_char = driver.find_elements_by_class_name('category-page__member-link')\n",
    "    \n",
    "    for kny in kny_char:\n",
    "        characterg.append({'gender':genders['gender'],'name':kny.text})"
   ]
  },
  {
   "cell_type": "code",
   "execution_count": 40,
   "id": "60cabe25-7f62-4ee9-af29-952baa9aef33",
   "metadata": {},
   "outputs": [
    {
     "data": {
      "text/plain": [
       "[{'gender': 'Category:Female Characters', 'name': 'Akeno Tsugikuni'},\n",
       " {'gender': 'Category:Female Characters', 'name': 'Amane Ubuyashiki'},\n",
       " {'gender': 'Category:Female Characters', 'name': 'Aoi Kanzaki'},\n",
       " {'gender': 'Category:Female Characters', 'name': 'Daki'},\n",
       " {'gender': 'Category:Female Characters', 'name': 'Fuku'},\n",
       " {'gender': 'Category:Female Characters', 'name': 'Hanako Kamado'},\n",
       " {'gender': 'Category:Female Characters', 'name': 'Hinaki Ubuyashiki'},\n",
       " {'gender': 'Category:Female Characters', 'name': 'Hinatsuru'},\n",
       " {'gender': 'Category:Female Characters', 'name': 'Hisa'},\n",
       " {'gender': 'Category:Female Characters', 'name': 'Kanae Kocho'},\n",
       " {'gender': 'Category:Female Characters', 'name': 'Kanao Tsuyuri'},\n",
       " {'gender': 'Category:Female Characters', 'name': 'Kanata Ubuyashiki'},\n",
       " {'gender': 'Category:Female Characters', 'name': 'Kie Kamado'},\n",
       " {'gender': 'Category:Female Characters', 'name': 'Kiyo Terauchi'},\n",
       " {'gender': 'Category:Female Characters', 'name': 'Koinatsu'},\n",
       " {'gender': 'Category:Female Characters', 'name': 'Kotoha Hashibira'},\n",
       " {'gender': 'Category:Female Characters', 'name': 'Koyuki'},\n",
       " {'gender': 'Category:Female Characters', 'name': 'Kuina Ubuyashiki'},\n",
       " {'gender': 'Category:Female Characters', 'name': 'Makio'},\n",
       " {'gender': 'Category:Female Characters', 'name': 'Makomo'},\n",
       " {'gender': 'Category:Female Characters', 'name': 'Mitsuri Kanroji'},\n",
       " {'gender': 'Category:Female Characters', 'name': 'Mukago'},\n",
       " {'gender': 'Category:Female Characters', 'name': 'Naho Takada'},\n",
       " {'gender': 'Category:Female Characters', 'name': 'Nakime'},\n",
       " {'gender': 'Category:Female Characters', 'name': 'Nezuko Kamado'},\n",
       " {'gender': 'Category:Female Characters', 'name': 'Nichika Ubuyashiki'},\n",
       " {'gender': 'Category:Female Characters', 'name': 'Omitsu'},\n",
       " {'gender': 'Category:Female Characters', 'name': 'Ozaki'},\n",
       " {'gender': 'Category:Female Characters', 'name': 'Ruka Rengoku'},\n",
       " {'gender': 'Category:Female Characters', 'name': 'Satoko'},\n",
       " {'gender': 'Category:Female Characters', 'name': 'Serpent Demon'},\n",
       " {'gender': 'Category:Female Characters', 'name': 'Shinobu Kocho'},\n",
       " {'gender': 'Category:Female Characters', 'name': 'Shizu Shinazugawa'},\n",
       " {'gender': 'Category:Female Characters', 'name': 'Spider Demon (Daughter)'},\n",
       " {'gender': 'Category:Female Characters', 'name': 'Spider Demon (Mother)'},\n",
       " {'gender': 'Category:Female Characters', 'name': 'Suma'},\n",
       " {'gender': 'Category:Female Characters', 'name': 'Sumi Nakahara'},\n",
       " {'gender': 'Category:Female Characters', 'name': 'Sumire'},\n",
       " {'gender': 'Category:Female Characters', 'name': 'Susamaru'},\n",
       " {'gender': 'Category:Female Characters', 'name': 'Suyako'},\n",
       " {'gender': 'Category:Female Characters', 'name': 'Tamayo'},\n",
       " {'gender': 'Category:Female Characters', 'name': 'Teruko'},\n",
       " {'gender': 'Category:Female Characters', 'name': 'Tokie'},\n",
       " {'gender': 'Category:Female Characters', 'name': 'Toko Agatsuma'},\n",
       " {'gender': 'Category:Female Characters', 'name': 'Tomi'},\n",
       " {'gender': 'Category:Female Characters', 'name': 'Tsutako Tomioka'},\n",
       " {'gender': 'Category:Female Characters', 'name': 'Ubume'},\n",
       " {'gender': 'Category:Female Characters', 'name': 'Uta'},\n",
       " {'gender': 'Category:Female Characters', 'name': 'Yae'},\n",
       " {'gender': 'Category:Male Characters', 'name': 'Akaza'},\n",
       " {'gender': 'Category:Male Characters', 'name': 'Aoba Hashibira'},\n",
       " {'gender': 'Category:Male Characters', 'name': 'Doma'},\n",
       " {'gender': 'Category:Male Characters', 'name': 'Enmu'},\n",
       " {'gender': 'Category:Male Characters', 'name': 'Flute Demon'},\n",
       " {'gender': 'Category:Male Characters', 'name': 'Genya Shinazugawa'},\n",
       " {'gender': 'Category:Male Characters', 'name': 'Giichi Tomioka'},\n",
       " {'gender': 'Category:Male Characters', 'name': 'Giyu Tomioka'},\n",
       " {'gender': 'Category:Male Characters', 'name': 'Goto'},\n",
       " {'gender': 'Category:Male Characters', 'name': 'Gyokko'},\n",
       " {'gender': 'Category:Male Characters', 'name': 'Gyomei Himejima'},\n",
       " {'gender': 'Category:Male Characters', 'name': 'Gyutaro'},\n",
       " {'gender': 'Category:Male Characters', 'name': 'Hairo'},\n",
       " {'gender': 'Category:Male Characters', 'name': 'Hand Demon'},\n",
       " {'gender': 'Category:Male Characters', 'name': 'Hantengu'},\n",
       " {'gender': 'Category:Male Characters', 'name': 'Horned Demon'},\n",
       " {'gender': 'Category:Male Characters', 'name': 'Hotaru Haganezuka'},\n",
       " {'gender': 'Category:Male Characters', 'name': 'Inosuke Hashibira'},\n",
       " {'gender': 'Category:Male Characters', 'name': 'Jigoro Kuwajima'},\n",
       " {'gender': 'Category:Male Characters', 'name': 'Kagaya Ubuyashiki'},\n",
       " {'gender': 'Category:Male Characters', 'name': 'Kaigaku'},\n",
       " {'gender': 'Category:Male Characters', 'name': 'Kamanue'},\n",
       " {'gender': 'Category:Male Characters', 'name': 'Kanata Kamado'},\n",
       " {'gender': 'Category:Male Characters', 'name': 'Kazumi'},\n",
       " {'gender': 'Category:Male Characters', 'name': 'Keizo'},\n",
       " {'gender': 'Category:Male Characters', 'name': 'Kiriya Ubuyashiki'},\n",
       " {'gender': 'Category:Male Characters', 'name': 'Kiyoshi'},\n",
       " {'gender': 'Category:Male Characters', 'name': 'Kokushibo'},\n",
       " {'gender': 'Category:Male Characters', 'name': 'Kotetsu'},\n",
       " {'gender': 'Category:Male Characters', 'name': 'Kozo Kanamori'},\n",
       " {'gender': 'Category:Male Characters', 'name': 'Kyogai'},\n",
       " {'gender': 'Category:Male Characters', 'name': 'Kyogo Shinazugawa'},\n",
       " {'gender': 'Category:Male Characters', 'name': 'Kyojuro Rengoku'},\n",
       " {'gender': 'Category:Male Characters', 'name': 'Masachika Kumeno'},\n",
       " {'gender': 'Category:Male Characters', 'name': 'Matazo'},\n",
       " {'gender': 'Category:Male Characters', 'name': 'Muichiro Tokito'},\n",
       " {'gender': 'Category:Male Characters', 'name': 'Murata'},\n",
       " {'gender': 'Category:Male Characters', 'name': 'Muzan Kibutsuji'},\n",
       " {'gender': 'Category:Male Characters', 'name': 'Nagakura'},\n",
       " {'gender': 'Category:Male Characters', 'name': 'Obanai Iguro'},\n",
       " {'gender': 'Category:Male Characters', 'name': 'Rokuro'},\n",
       " {'gender': 'Category:Male Characters', 'name': 'Rokuta Kamado'},\n",
       " {'gender': 'Category:Male Characters', 'name': 'Rui'},\n",
       " {'gender': 'Category:Male Characters', 'name': 'Sabito'},\n",
       " {'gender': 'Category:Male Characters', 'name': 'Saburo'},\n",
       " {'gender': 'Category:Male Characters', 'name': 'Sakonji Urokodaki'},\n",
       " {'gender': 'Category:Male Characters', 'name': 'Sanehiro Shinazugawa'},\n",
       " {'gender': 'Category:Male Characters', 'name': 'Sanemi Shinazugawa'},\n",
       " {'gender': 'Category:Male Characters', 'name': 'Senjuro Rengoku'},\n",
       " {'gender': 'Category:Male Characters', 'name': 'Shigeru Kamado'},\n",
       " {'gender': 'Category:Male Characters', 'name': 'Shinjuro Rengoku'},\n",
       " {'gender': 'Category:Male Characters', 'name': 'Shoichi'},\n",
       " {'gender': 'Category:Male Characters', 'name': 'Slasher'},\n",
       " {'gender': 'Category:Male Characters', 'name': 'Spider Demon (Father)'},\n",
       " {'gender': 'Category:Male Characters', 'name': 'Spider Demon (Son)'},\n",
       " {'gender': 'Category:Male Characters', 'name': 'Sumihiko Kamado'},\n",
       " {'gender': 'Category:Male Characters', 'name': 'Sumiyoshi'},\n",
       " {'gender': 'Category:Male Characters', 'name': 'Swamp Demon'},\n",
       " {'gender': 'Category:Male Characters', 'name': 'Takaharu'},\n",
       " {'gender': 'Category:Male Characters', 'name': 'Takeo Kamado'},\n",
       " {'gender': 'Category:Male Characters', 'name': 'Takeuchi'},\n",
       " {'gender': 'Category:Male Characters', 'name': 'Tanjiro Kamado'},\n",
       " {'gender': 'Category:Male Characters', 'name': 'Tanjuro Kamado'},\n",
       " {'gender': 'Category:Male Characters', 'name': 'Tecchin Tecchikawahara'},\n",
       " {'gender': 'Category:Male Characters', 'name': 'Temple Demon'},\n",
       " {'gender': 'Category:Male Characters', 'name': 'Tengen Uzui'},\n",
       " {'gender': 'Category:Male Characters', 'name': 'Tenma Uzui'},\n",
       " {'gender': 'Category:Male Characters', 'name': 'Tetsuido'},\n",
       " {'gender': 'Category:Male Characters', 'name': 'Tojuro Rengoku'},\n",
       " {'gender': 'Category:Male Characters', 'name': 'Tongue Demon'},\n",
       " {'gender': 'Category:Male Characters', 'name': 'Toyo'},\n",
       " {'gender': 'Category:Male Characters', 'name': 'Wakuraba'},\n",
       " {'gender': 'Category:Male Characters', 'name': 'Yahaba'},\n",
       " {'gender': 'Category:Male Characters', 'name': 'Yoriichi Tsugikuni'},\n",
       " {'gender': 'Category:Male Characters', 'name': 'Yoshiteru Agatsuma'},\n",
       " {'gender': 'Category:Male Characters', 'name': 'Yuichiro Tokito'},\n",
       " {'gender': 'Category:Male Characters', 'name': 'Yushiro'},\n",
       " {'gender': 'Category:Male Characters', 'name': 'Zenitsu Agatsuma'}]"
      ]
     },
     "execution_count": 40,
     "metadata": {},
     "output_type": "execute_result"
    }
   ],
   "source": [
    "characterg"
   ]
  },
  {
   "cell_type": "code",
   "execution_count": 41,
   "id": "18286ce2-b0f7-4d58-91d8-63d70b70e0f4",
   "metadata": {},
   "outputs": [
    {
     "data": {
      "text/html": [
       "<div>\n",
       "<style scoped>\n",
       "    .dataframe tbody tr th:only-of-type {\n",
       "        vertical-align: middle;\n",
       "    }\n",
       "\n",
       "    .dataframe tbody tr th {\n",
       "        vertical-align: top;\n",
       "    }\n",
       "\n",
       "    .dataframe thead th {\n",
       "        text-align: right;\n",
       "    }\n",
       "</style>\n",
       "<table border=\"1\" class=\"dataframe\">\n",
       "  <thead>\n",
       "    <tr style=\"text-align: right;\">\n",
       "      <th></th>\n",
       "      <th>gender</th>\n",
       "      <th>name</th>\n",
       "    </tr>\n",
       "  </thead>\n",
       "  <tbody>\n",
       "    <tr>\n",
       "      <th>0</th>\n",
       "      <td>Category:Female Characters</td>\n",
       "      <td>Akeno Tsugikuni</td>\n",
       "    </tr>\n",
       "    <tr>\n",
       "      <th>1</th>\n",
       "      <td>Category:Female Characters</td>\n",
       "      <td>Amane Ubuyashiki</td>\n",
       "    </tr>\n",
       "    <tr>\n",
       "      <th>2</th>\n",
       "      <td>Category:Female Characters</td>\n",
       "      <td>Aoi Kanzaki</td>\n",
       "    </tr>\n",
       "    <tr>\n",
       "      <th>3</th>\n",
       "      <td>Category:Female Characters</td>\n",
       "      <td>Daki</td>\n",
       "    </tr>\n",
       "    <tr>\n",
       "      <th>4</th>\n",
       "      <td>Category:Female Characters</td>\n",
       "      <td>Fuku</td>\n",
       "    </tr>\n",
       "    <tr>\n",
       "      <th>...</th>\n",
       "      <td>...</td>\n",
       "      <td>...</td>\n",
       "    </tr>\n",
       "    <tr>\n",
       "      <th>122</th>\n",
       "      <td>Category:Male Characters</td>\n",
       "      <td>Yoriichi Tsugikuni</td>\n",
       "    </tr>\n",
       "    <tr>\n",
       "      <th>123</th>\n",
       "      <td>Category:Male Characters</td>\n",
       "      <td>Yoshiteru Agatsuma</td>\n",
       "    </tr>\n",
       "    <tr>\n",
       "      <th>124</th>\n",
       "      <td>Category:Male Characters</td>\n",
       "      <td>Yuichiro Tokito</td>\n",
       "    </tr>\n",
       "    <tr>\n",
       "      <th>125</th>\n",
       "      <td>Category:Male Characters</td>\n",
       "      <td>Yushiro</td>\n",
       "    </tr>\n",
       "    <tr>\n",
       "      <th>126</th>\n",
       "      <td>Category:Male Characters</td>\n",
       "      <td>Zenitsu Agatsuma</td>\n",
       "    </tr>\n",
       "  </tbody>\n",
       "</table>\n",
       "<p>127 rows × 2 columns</p>\n",
       "</div>"
      ],
      "text/plain": [
       "                         gender                name\n",
       "0    Category:Female Characters     Akeno Tsugikuni\n",
       "1    Category:Female Characters    Amane Ubuyashiki\n",
       "2    Category:Female Characters         Aoi Kanzaki\n",
       "3    Category:Female Characters                Daki\n",
       "4    Category:Female Characters                Fuku\n",
       "..                          ...                 ...\n",
       "122    Category:Male Characters  Yoriichi Tsugikuni\n",
       "123    Category:Male Characters  Yoshiteru Agatsuma\n",
       "124    Category:Male Characters     Yuichiro Tokito\n",
       "125    Category:Male Characters             Yushiro\n",
       "126    Category:Male Characters    Zenitsu Agatsuma\n",
       "\n",
       "[127 rows x 2 columns]"
      ]
     },
     "execution_count": 41,
     "metadata": {},
     "output_type": "execute_result"
    }
   ],
   "source": [
    "pd.DataFrame(characterg)"
   ]
  },
  {
   "cell_type": "code",
   "execution_count": 43,
   "id": "f44fc0f5-c2bd-40bd-bcfa-b3a98a8888fb",
   "metadata": {},
   "outputs": [
    {
     "data": {
      "image/png": "[encoded data removed]",
      "text/plain": [
       "<Figure size 432x288 with 1 Axes>"
      ]
     },
     "metadata": {
      "needs_background": "light"
     },
     "output_type": "display_data"
    }
   ],
   "source": [
    "character_kny_g = pd.DataFrame(characterg)\n",
    "\n",
    "character_kny_g['gender'].value_counts().plot(kind=\"bar\")\n",
    "plt.show()"
   ]
  },
  {
   "cell_type": "code",
   "execution_count": null,
   "id": "a000b9ce-6312-416e-8239-71ee1a359c3b",
   "metadata": {},
   "outputs": [],
   "source": []
  }
 ],
 "metadata": {
  "kernelspec": {
   "display_name": "Python 3 (ipykernel)",
   "language": "python",
   "name": "python3"
  },
  "language_info": {
   "codemirror_mode": {
    "name": "ipython",
    "version": 3
   },
   "file_extension": ".py",
   "mimetype": "text/x-python",
   "name": "python",
   "nbconvert_exporter": "python",
   "pygments_lexer": "ipython3",
   "version": "3.8.10"
  }
 },
 "nbformat": 4,
 "nbformat_minor": 5
}
